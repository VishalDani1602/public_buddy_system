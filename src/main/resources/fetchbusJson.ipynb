{
 "cells": [
  {
   "cell_type": "code",
   "execution_count": 2,
   "id": "eeafa529-cf90-4bd7-b8b1-4b7778148473",
   "metadata": {},
   "outputs": [
    {
     "name": "stdout",
     "output_type": "stream",
     "text": [
      "An error occurred: HTTPSConnectionPool(host='webservices.umoiq.com', port=443): Max retries exceeded with url: /api/pub/v1/agencies/sfmta-cis/routes/5/vehicles?key=0be8ebd0284ce712a63f29dcaf7798c4 (Caused by NewConnectionError('<urllib3.connection.HTTPSConnection object at 0x1045f23f0>: Failed to establish a new connection: [Errno 8] nodename nor servname provided, or not known'))\n",
      "An error occurred: HTTPSConnectionPool(host='webservices.umoiq.com', port=443): Max retries exceeded with url: /api/pub/v1/agencies/sfmta-cis/routes/5/vehicles?key=0be8ebd0284ce712a63f29dcaf7798c4 (Caused by NewConnectionError('<urllib3.connection.HTTPSConnection object at 0x10592d9a0>: Failed to establish a new connection: [Errno 8] nodename nor servname provided, or not known'))\n",
      "An error occurred: HTTPSConnectionPool(host='webservices.umoiq.com', port=443): Max retries exceeded with url: /api/pub/v1/agencies/sfmta-cis/routes/5/vehicles?key=0be8ebd0284ce712a63f29dcaf7798c4 (Caused by NewConnectionError('<urllib3.connection.HTTPSConnection object at 0x10592d340>: Failed to establish a new connection: [Errno 8] nodename nor servname provided, or not known'))\n",
      "An error occurred: HTTPSConnectionPool(host='webservices.umoiq.com', port=443): Max retries exceeded with url: /api/pub/v1/agencies/sfmta-cis/routes/5/vehicles?key=0be8ebd0284ce712a63f29dcaf7798c4 (Caused by NewConnectionError('<urllib3.connection.HTTPSConnection object at 0x10592d370>: Failed to establish a new connection: [Errno 8] nodename nor servname provided, or not known'))\n",
      "An error occurred: HTTPSConnectionPool(host='webservices.umoiq.com', port=443): Max retries exceeded with url: /api/pub/v1/agencies/sfmta-cis/routes/5/vehicles?key=0be8ebd0284ce712a63f29dcaf7798c4 (Caused by NewConnectionError('<urllib3.connection.HTTPSConnection object at 0x10592dbe0>: Failed to establish a new connection: [Errno 8] nodename nor servname provided, or not known'))\n",
      "An error occurred: HTTPSConnectionPool(host='webservices.umoiq.com', port=443): Max retries exceeded with url: /api/pub/v1/agencies/sfmta-cis/routes/5/vehicles?key=0be8ebd0284ce712a63f29dcaf7798c4 (Caused by NewConnectionError('<urllib3.connection.HTTPSConnection object at 0x10592de50>: Failed to establish a new connection: [Errno 8] nodename nor servname provided, or not known'))\n",
      "An error occurred: HTTPSConnectionPool(host='webservices.umoiq.com', port=443): Max retries exceeded with url: /api/pub/v1/agencies/sfmta-cis/routes/5/vehicles?key=0be8ebd0284ce712a63f29dcaf7798c4 (Caused by NewConnectionError('<urllib3.connection.HTTPSConnection object at 0x10592dd00>: Failed to establish a new connection: [Errno 8] nodename nor servname provided, or not known'))\n",
      "An error occurred: HTTPSConnectionPool(host='webservices.umoiq.com', port=443): Max retries exceeded with url: /api/pub/v1/agencies/sfmta-cis/routes/5/vehicles?key=0be8ebd0284ce712a63f29dcaf7798c4 (Caused by NewConnectionError('<urllib3.connection.HTTPSConnection object at 0x10592de50>: Failed to establish a new connection: [Errno 8] nodename nor servname provided, or not known'))\n",
      "An error occurred: HTTPSConnectionPool(host='webservices.umoiq.com', port=443): Max retries exceeded with url: /api/pub/v1/agencies/sfmta-cis/routes/5/vehicles?key=0be8ebd0284ce712a63f29dcaf7798c4 (Caused by NewConnectionError('<urllib3.connection.HTTPSConnection object at 0x10592deb0>: Failed to establish a new connection: [Errno 8] nodename nor servname provided, or not known'))\n",
      "An error occurred: HTTPSConnectionPool(host='webservices.umoiq.com', port=443): Max retries exceeded with url: /api/pub/v1/agencies/sfmta-cis/routes/5/vehicles?key=0be8ebd0284ce712a63f29dcaf7798c4 (Caused by NewConnectionError('<urllib3.connection.HTTPSConnection object at 0x10592dbe0>: Failed to establish a new connection: [Errno 8] nodename nor servname provided, or not known'))\n",
      "An error occurred: HTTPSConnectionPool(host='webservices.umoiq.com', port=443): Max retries exceeded with url: /api/pub/v1/agencies/sfmta-cis/routes/5/vehicles?key=0be8ebd0284ce712a63f29dcaf7798c4 (Caused by NewConnectionError('<urllib3.connection.HTTPSConnection object at 0x10592db50>: Failed to establish a new connection: [Errno 8] nodename nor servname provided, or not known'))\n",
      "An error occurred: HTTPSConnectionPool(host='webservices.umoiq.com', port=443): Max retries exceeded with url: /api/pub/v1/agencies/sfmta-cis/routes/5/vehicles?key=0be8ebd0284ce712a63f29dcaf7798c4 (Caused by NewConnectionError('<urllib3.connection.HTTPSConnection object at 0x10592de50>: Failed to establish a new connection: [Errno 8] nodename nor servname provided, or not known'))\n",
      "An error occurred: HTTPSConnectionPool(host='webservices.umoiq.com', port=443): Max retries exceeded with url: /api/pub/v1/agencies/sfmta-cis/routes/5/vehicles?key=0be8ebd0284ce712a63f29dcaf7798c4 (Caused by NewConnectionError('<urllib3.connection.HTTPSConnection object at 0x10592deb0>: Failed to establish a new connection: [Errno 8] nodename nor servname provided, or not known'))\n",
      "An error occurred: HTTPSConnectionPool(host='webservices.umoiq.com', port=443): Max retries exceeded with url: /api/pub/v1/agencies/sfmta-cis/routes/5/vehicles?key=0be8ebd0284ce712a63f29dcaf7798c4 (Caused by NewConnectionError('<urllib3.connection.HTTPSConnection object at 0x10592e090>: Failed to establish a new connection: [Errno 8] nodename nor servname provided, or not known'))\n",
      "An error occurred: HTTPSConnectionPool(host='webservices.umoiq.com', port=443): Max retries exceeded with url: /api/pub/v1/agencies/sfmta-cis/routes/5/vehicles?key=0be8ebd0284ce712a63f29dcaf7798c4 (Caused by NewConnectionError('<urllib3.connection.HTTPSConnection object at 0x10592db50>: Failed to establish a new connection: [Errno 8] nodename nor servname provided, or not known'))\n",
      "An error occurred: HTTPSConnectionPool(host='webservices.umoiq.com', port=443): Max retries exceeded with url: /api/pub/v1/agencies/sfmta-cis/routes/5/vehicles?key=0be8ebd0284ce712a63f29dcaf7798c4 (Caused by NewConnectionError('<urllib3.connection.HTTPSConnection object at 0x10592de80>: Failed to establish a new connection: [Errno 8] nodename nor servname provided, or not known'))\n",
      "Data saved successfully.\n",
      "Data saved successfully.\n",
      "Data saved successfully.\n",
      "Data saved successfully.\n",
      "Data saved successfully.\n",
      "Data saved successfully.\n",
      "Data saved successfully.\n"
     ]
    },
    {
     "ename": "KeyboardInterrupt",
     "evalue": "",
     "output_type": "error",
     "traceback": [
      "\u001b[0;31m---------------------------------------------------------------------------\u001b[0m",
      "\u001b[0;31mKeyboardInterrupt\u001b[0m                         Traceback (most recent call last)",
      "Cell \u001b[0;32mIn[2], line 23\u001b[0m\n\u001b[1;32m     20\u001b[0m     \u001b[38;5;28mprint\u001b[39m(\u001b[38;5;124mf\u001b[39m\u001b[38;5;124m\"\u001b[39m\u001b[38;5;124mAn error occurred: \u001b[39m\u001b[38;5;132;01m{\u001b[39;00me\u001b[38;5;132;01m}\u001b[39;00m\u001b[38;5;124m\"\u001b[39m)\n\u001b[1;32m     22\u001b[0m \u001b[38;5;66;03m# Wait for 5 seconds before making the next request\u001b[39;00m\n\u001b[0;32m---> 23\u001b[0m \u001b[43mtime\u001b[49m\u001b[38;5;241;43m.\u001b[39;49m\u001b[43msleep\u001b[49m\u001b[43m(\u001b[49m\u001b[38;5;241;43m5\u001b[39;49m\u001b[43m)\u001b[49m\n",
      "\u001b[0;31mKeyboardInterrupt\u001b[0m: "
     ]
    }
   ],
   "source": [
    "import requests\n",
    "import json\n",
    "import time\n",
    "\n",
    "url = \"https://webservices.umoiq.com/api/pub/v1/agencies/sfmta-cis/routes/5/vehicles?key=0be8ebd0284ce712a63f29dcaf7798c4\"\n",
    "headers = {}\n",
    "\n",
    "while True:\n",
    "    try:\n",
    "        response = requests.get(url, headers=headers)\n",
    "        data = response.json()\n",
    "        \n",
    "        # Write JSON data to a file\n",
    "        with open(\"response.json\", \"w\") as file:\n",
    "            json.dump(data, file, indent=4)\n",
    "        \n",
    "        print(\"Data saved successfully.\")\n",
    "        \n",
    "    except Exception as e:\n",
    "        print(f\"An error occurred: {e}\")\n",
    "    \n",
    "    # Wait for 5 seconds before making the next request\n",
    "    time.sleep(5)"
   ]
  },
  {
   "cell_type": "code",
   "execution_count": null,
   "id": "2f4482b3-f99a-4d95-a292-8f630c262543",
   "metadata": {},
   "outputs": [],
   "source": []
  }
 ],
 "metadata": {
  "kernelspec": {
   "display_name": "Python 3 (ipykernel)",
   "language": "python",
   "name": "python3"
  },
  "language_info": {
   "codemirror_mode": {
    "name": "ipython",
    "version": 3
   },
   "file_extension": ".py",
   "mimetype": "text/x-python",
   "name": "python",
   "nbconvert_exporter": "python",
   "pygments_lexer": "ipython3",
   "version": "3.12.0"
  }
 },
 "nbformat": 4,
 "nbformat_minor": 5
}
